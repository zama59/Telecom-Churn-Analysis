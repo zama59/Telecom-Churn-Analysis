{
  "nbformat": 4,
  "nbformat_minor": 0,
  "metadata": {
    "colab": {
      "private_outputs": true,
      "provenance": [],
      "collapsed_sections": [
        "vncDsAP0Gaoa",
        "FJNUwmbgGyua",
        "w6K7xa23Elo4",
        "yQaldy8SH6Dl",
        "PH-0ReGfmX4f",
        "mDgbUHAGgjLW",
        "O_i_v8NEhb9l",
        "HhfV-JJviCcP",
        "Y3lxredqlCYt",
        "3RnN4peoiCZX",
        "x71ZqKXriCWQ",
        "7hBIi_osiCS2",
        "JlHwYmJAmNHm",
        "35m5QtbWiB9F",
        "PoPl-ycgm1ru",
        "H0kj-8xxnORC",
        "nA9Y7ga8ng1Z",
        "PBTbrJXOngz2",
        "u3PMJOP6ngxN",
        "dauF4eBmngu3",
        "bKJF3rekwFvQ",
        "MSa1f5Uengrz",
        "GF8Ens_Soomf",
        "0wOQAZs5pc--",
        "K5QZ13OEpz2H",
        "lQ7QKXXCp7Bj",
        "448CDAPjqfQr",
        "KSlN3yHqYklG",
        "t6dVpIINYklI",
        "ijmpgYnKYklI",
        "-JiQyfWJYklI",
        "EM7whBJCYoAo",
        "fge-S5ZAYoAp",
        "85gYPyotYoAp",
        "RoGjAbkUYoAp",
        "4Of9eVA-YrdM",
        "iky9q4vBYrdO",
        "F6T5p64dYrdO",
        "y-Ehk30pYrdP",
        "bamQiAODYuh1",
        "QHF8YVU7Yuh3",
        "GwzvFGzlYuh3",
        "qYpmQ266Yuh3",
        "OH-pJp9IphqM",
        "bbFf2-_FphqN",
        "_ouA3fa0phqN",
        "Seke61FWphqN",
        "PIIx-8_IphqN",
        "t27r6nlMphqO",
        "r2jJGEOYphqO",
        "b0JNsNcRphqO",
        "BZR9WyysphqO",
        "jj7wYXLtphqO",
        "eZrbJ2SmphqO",
        "rFu4xreNphqO",
        "YJ55k-q6phqO",
        "gCFgpxoyphqP",
        "OVtJsKN_phqQ",
        "lssrdh5qphqQ",
        "U2RJ9gkRphqQ",
        "1M8mcRywphqQ",
        "tgIPom80phqQ",
        "JMzcOPDDphqR",
        "x-EpHcCOp1ci",
        "X_VqEhTip1ck",
        "8zGJKyg5p1ck",
        "PVzmfK_Ep1ck",
        "n3dbpmDWp1ck",
        "ylSl6qgtp1ck",
        "ZWILFDl5p1ck",
        "M7G43BXep1ck",
        "Ag9LCva-p1cl",
        "E6MkPsBcp1cl",
        "2cELzS2fp1cl",
        "3MPXvC8up1cl",
        "NC_X3p0fY2L0",
        "UV0SzAkaZNRQ",
        "YPEH6qLeZNRQ",
        "q29F0dvdveiT",
        "EXh0U9oCveiU",
        "22aHeOlLveiV",
        "JcMwzZxoAimU",
        "8G2x9gOozGDZ",
        "gCX9965dhzqZ",
        "gIfDvo9L0UH2"
      ],
      "include_colab_link": true
    },
    "kernelspec": {
      "name": "python3",
      "display_name": "Python 3"
    },
    "language_info": {
      "name": "python"
    }
  },
  "cells": [
    {
      "cell_type": "markdown",
      "metadata": {
        "id": "view-in-github",
        "colab_type": "text"
      },
      "source": [
        "<a href=\"https://colab.research.google.com/github/zama59/Telecom-Churn-Analysis/blob/main/EDA__Telecom_Churn_Analysis.ipynb\" target=\"_parent\"><img src=\"https://colab.research.google.com/assets/colab-badge.svg\" alt=\"Open In Colab\"/></a>"
      ]
    },
    {
      "cell_type": "markdown",
      "source": [
        "# **Project Name**    - Telecom Churn Analysis\n"
      ],
      "metadata": {
        "id": "vncDsAP0Gaoa"
      }
    },
    {
      "cell_type": "markdown",
      "source": [
        "##### **Project Type**    - EDA/Regression/Classification/Unsupervised\n",
        "##### **Contribution**    - Individual\n",
        "**Member** - Zama Khan"
      ],
      "metadata": {
        "id": "beRrZCGUAJYm"
      }
    },
    {
      "cell_type": "markdown",
      "source": [
        "# **Project Summary -**"
      ],
      "metadata": {
        "id": "FJNUwmbgGyua"
      }
    },
    {
      "cell_type": "markdown",
      "source": [
        "Telecom Churn Analysis: Understanding and Mitigating Customer Attrition\n",
        "\n",
        "Telecom churn analysis is a critical aspect of strategic decision-making for telecommunications service providers. Churn, the rate at which customers discontinue their relationship with a telecom company, poses a significant challenge in an industry marked by fierce competition and rapid technological advancements. Effectively analyzing and addressing customer churn is crucial for sustaining growth, optimizing operational costs, and enhancing overall customer satisfaction.\n",
        "\n",
        "Telecom providers must adhere to regulatory requirements governing customer communications, data privacy, and service quality. Compliance with these regulations is crucial to maintaining trust and avoiding legal issues that could contribute to customer churn.\n",
        "\n",
        "\n",
        "\n",
        "\n",
        "\n",
        "\n",
        "\n"
      ],
      "metadata": {
        "id": "F6v_1wHtG2nS"
      }
    },
    {
      "cell_type": "markdown",
      "source": [
        "# **GitHub Link -**"
      ],
      "metadata": {
        "id": "w6K7xa23Elo4"
      }
    },
    {
      "cell_type": "markdown",
      "source": [
        "https://github.com/zama59"
      ],
      "metadata": {
        "id": "h1o69JH3Eqqn"
      }
    },
    {
      "cell_type": "markdown",
      "source": [
        "# **Problem Statement**\n"
      ],
      "metadata": {
        "id": "yQaldy8SH6Dl"
      }
    },
    {
      "cell_type": "markdown",
      "source": [
        "\n",
        "In the dynamic and competitive landscape of the telecommunications industry, customer churn poses a significant challenge for service providers. Telecom companies need to develop effective strategies to understand, predict, and mitigate customer attrition. The problem at hand is to conduct a comprehensive Telecom Churn Analysis, leveraging data analytics, machine learning, and strategic planning.\n",
        "\n",
        "Develop predictive models to forecast customer churn based on historical data, customer behavior, and usage patterns. The goal is to identify potential churners and implement proactive retention strategies."
      ],
      "metadata": {
        "id": "DpeJGUA3kjGy"
      }
    },
    {
      "cell_type": "markdown",
      "source": [
        "#### **Define Your Business Objective?**"
      ],
      "metadata": {
        "id": "PH-0ReGfmX4f"
      }
    },
    {
      "cell_type": "markdown",
      "source": [
        "Maximize customer retention and minimize churn\n",
        "\n",
        "provide step to retain valuable customer"
      ],
      "metadata": {
        "id": "PhDvGCAqmjP1"
      }
    },
    {
      "cell_type": "markdown",
      "source": [
        "# **General Guidelines** : -  "
      ],
      "metadata": {
        "id": "mDgbUHAGgjLW"
      }
    },
    {
      "cell_type": "markdown",
      "source": [
        "1.   Well-structured, formatted, and commented code is required.\n",
        "2.   Exception Handling, Production Grade Code & Deployment Ready Code will be a plus. Those students will be awarded some additional credits.\n",
        "     \n",
        "     The additional credits will have advantages over other students during Star Student selection.\n",
        "       \n",
        "             [ Note: - Deployment Ready Code is defined as, the whole .ipynb notebook should be executable in one go\n",
        "                       without a single error logged. ]\n",
        "\n",
        "3.   Each and every logic should have proper comments.\n",
        "4. You may add as many number of charts you want. Make Sure for each and every chart the following format should be answered.\n",
        "        \n",
        "\n",
        "```\n",
        "# Chart visualization code\n",
        "```\n",
        "            \n",
        "\n",
        "*   Why did you pick the specific chart?\n",
        "*   What is/are the insight(s) found from the chart?\n",
        "* Will the gained insights help creating a positive business impact?\n",
        "Are there any insights that lead to negative growth? Justify with specific reason.\n",
        "\n",
        "5. You have to create at least 20 logical & meaningful charts having important insights.\n",
        "\n",
        "\n",
        "[ Hints : - Do the Vizualization in  a structured way while following \"UBM\" Rule.\n",
        "\n",
        "U - Univariate Analysis,\n",
        "\n",
        "B - Bivariate Analysis (Numerical - Categorical, Numerical - Numerical, Categorical - Categorical)\n",
        "\n",
        "M - Multivariate Analysis\n",
        " ]\n",
        "\n",
        "\n",
        "\n"
      ],
      "metadata": {
        "id": "ZrxVaUj-hHfC"
      }
    },
    {
      "cell_type": "markdown",
      "source": [
        "# ***Let's Begin !***"
      ],
      "metadata": {
        "id": "O_i_v8NEhb9l"
      }
    },
    {
      "cell_type": "markdown",
      "source": [
        "## ***1. Know Your Data***"
      ],
      "metadata": {
        "id": "HhfV-JJviCcP"
      }
    },
    {
      "cell_type": "markdown",
      "source": [
        "### Import Libraries"
      ],
      "metadata": {
        "id": "Y3lxredqlCYt"
      }
    },
    {
      "cell_type": "code",
      "source": [
        "# Import Libraries\n",
        "import numpy as np\n",
        "import pandas as pd\n",
        "from numpy import math\n",
        "from numpy import loadtxt\n",
        "import seaborn as sns\n",
        "import matplotlib.pyplot as plt\n",
        "from matplotlib import rcParams"
      ],
      "metadata": {
        "id": "M8Vqi-pPk-HR"
      },
      "execution_count": null,
      "outputs": []
    },
    {
      "cell_type": "markdown",
      "source": [
        "### Dataset Loading"
      ],
      "metadata": {
        "id": "3RnN4peoiCZX"
      }
    },
    {
      "cell_type": "code",
      "source": [
        "#Mount Drive\n",
        "from google.colab import drive\n",
        "drive.mount('/content/drive')"
      ],
      "metadata": {
        "id": "0u_JGLnw0u8e"
      },
      "execution_count": null,
      "outputs": []
    },
    {
      "cell_type": "code",
      "source": [
        "# Load Dataset\n",
        "telecom_df = pd.read_csv('/content/Telecom Churn.csv')\n",
        "telecom_df"
      ],
      "metadata": {
        "id": "4CkvbW_SlZ_R"
      },
      "execution_count": null,
      "outputs": []
    },
    {
      "cell_type": "markdown",
      "source": [
        "### Dataset First View"
      ],
      "metadata": {
        "id": "x71ZqKXriCWQ"
      }
    },
    {
      "cell_type": "code",
      "source": [
        "# Dataset First Look\n",
        "telecom_df.head()"
      ],
      "metadata": {
        "id": "LWNFOSvLl09H"
      },
      "execution_count": null,
      "outputs": []
    },
    {
      "cell_type": "markdown",
      "source": [
        "### Dataset Rows & Columns count"
      ],
      "metadata": {
        "id": "7hBIi_osiCS2"
      }
    },
    {
      "cell_type": "code",
      "source": [
        "# Dataset Rows & Columns count\n",
        "telecom_df.shape"
      ],
      "metadata": {
        "id": "Kllu7SJgmLij"
      },
      "execution_count": null,
      "outputs": []
    },
    {
      "cell_type": "markdown",
      "source": [
        "### Dataset Information"
      ],
      "metadata": {
        "id": "JlHwYmJAmNHm"
      }
    },
    {
      "cell_type": "code",
      "source": [
        "# Dataset Info\n",
        "telecom_df.info()"
      ],
      "metadata": {
        "id": "e9hRXRi6meOf"
      },
      "execution_count": null,
      "outputs": []
    },
    {
      "cell_type": "markdown",
      "source": [
        "#### Duplicate Values"
      ],
      "metadata": {
        "id": "35m5QtbWiB9F"
      }
    },
    {
      "cell_type": "code",
      "source": [
        "# Dataset Duplicate Value Count\n",
        "len(telecom_df[telecom_df.duplicated()])"
      ],
      "metadata": {
        "id": "1sLdpKYkmox0"
      },
      "execution_count": null,
      "outputs": []
    },
    {
      "cell_type": "markdown",
      "source": [
        "#### Missing Values/Null Values"
      ],
      "metadata": {
        "id": "PoPl-ycgm1ru"
      }
    },
    {
      "cell_type": "code",
      "source": [
        "# Missing Values/Null Values Count\n",
        "print(telecom_df.isnull().sum())"
      ],
      "metadata": {
        "id": "GgHWkxvamxVg"
      },
      "execution_count": null,
      "outputs": []
    },
    {
      "cell_type": "code",
      "source": [
        "# Visualizing the missing values\n",
        "sns.heatmap(telecom_df.isnull())"
      ],
      "metadata": {
        "id": "3q5wnI3om9sJ"
      },
      "execution_count": null,
      "outputs": []
    },
    {
      "cell_type": "markdown",
      "source": [
        "### What did you know about your dataset?"
      ],
      "metadata": {
        "id": "H0kj-8xxnORC"
      }
    },
    {
      "cell_type": "markdown",
      "source": [
        "The dataset given is a dataset from Telecommunication industry, and we have to analysis the churn of customers and the insights behind it.\n",
        "\n",
        "Churn prediction is analytical studies on the possibility of a customer abandoning a product or service. The goal is to understand and take steps to change it before the costumer gives up the product or service.\n",
        "\n",
        "The above dataset has 3333 rows and 20 columns. There are no mising values and duplicate values in the dataset."
      ],
      "metadata": {
        "id": "gfoNAAC-nUe_"
      }
    },
    {
      "cell_type": "markdown",
      "source": [
        "## ***2. Understanding Your Variables***"
      ],
      "metadata": {
        "id": "nA9Y7ga8ng1Z"
      }
    },
    {
      "cell_type": "code",
      "source": [
        "# Dataset Columns\n",
        "telecom_df.columns"
      ],
      "metadata": {
        "id": "j7xfkqrt5Ag5"
      },
      "execution_count": null,
      "outputs": []
    },
    {
      "cell_type": "code",
      "source": [
        "# Dataset Describe\n",
        "telecom_df.describe()"
      ],
      "metadata": {
        "id": "DnOaZdaE5Q5t"
      },
      "execution_count": null,
      "outputs": []
    },
    {
      "cell_type": "markdown",
      "source": [
        "### Variables Description"
      ],
      "metadata": {
        "id": "PBTbrJXOngz2"
      }
    },
    {
      "cell_type": "markdown",
      "source": [
        "* **State                :**category for the 51 states\n",
        "\n",
        "* **Account Length       :**how long account has been active\n",
        "\n",
        "* **Area Code            :**Code Number of Area having some States included in each area code\n",
        "\n",
        "* **lntl Plan            :**Internat ional plan activated ( yes, no )\n",
        "\n",
        "* **VMail Plan           :**  ice Mail plan activated ( yes ,no )\n",
        "\n",
        "* **VMail Message        :**No.of voice mail messages\n",
        "\n",
        "* **Day Mins             :**Total day minutes used\n",
        "\n",
        "* **Day calls**         :Total day calls made\n",
        "\n",
        "* **Day Charge**         :Total day charge\n",
        "\n",
        "* **Eve Mins**          :Total evening minutes\n",
        "\n",
        "* **Eve Calls**          :Total evening calls\n",
        "\n",
        "* **Eve Charge**         :Total evening charge\n",
        "\n",
        "* **Night Mins**         :Total night minutes\n",
        "\n",
        "* **Night Calls**        :Total night calls\n",
        "\n",
        "* **Night Charge**      :Total night charge\n",
        "\n",
        "* **Intl Mins**         :Total International minutes used\n",
        "\n",
        "* **Intl Calls**         :Total International calls made\n",
        "\n",
        "* **Intl Charge**        :Total International charge\n",
        "\n",
        "* **CustServ calls**    :Number of customer service caUs made\n",
        "\n",
        "* **Churn**             :Customer churn (Target Variable True=1, False=0)"
      ],
      "metadata": {
        "id": "aJV4KIxSnxay"
      }
    },
    {
      "cell_type": "markdown",
      "source": [
        "### Check Unique Values for each variable."
      ],
      "metadata": {
        "id": "u3PMJOP6ngxN"
      }
    },
    {
      "cell_type": "code",
      "source": [
        "# Check Unique Values for each variable.\n",
        "for i in telecom_df.columns.tolist():\n",
        "  print(\"No. of unique values in \",i,'is',telecom_df[i].nunique(),'.')"
      ],
      "metadata": {
        "id": "zms12Yq5n-jE"
      },
      "execution_count": null,
      "outputs": []
    },
    {
      "cell_type": "markdown",
      "source": [
        "## 3. ***Data Wrangling***"
      ],
      "metadata": {
        "id": "dauF4eBmngu3"
      }
    },
    {
      "cell_type": "markdown",
      "source": [
        "### Data Wrangling Code"
      ],
      "metadata": {
        "id": "bKJF3rekwFvQ"
      }
    },
    {
      "cell_type": "code",
      "source": [
        "# Write your code to make your dataset analysis ready.\n",
        "df=telecom_df.copy()\n",
        "#checking shape of true value\n",
        "print(\"No. of customer churning :-\",len(df[df['Churn']==True]))\n",
        "# Assigning chrun customer data to variable df_churn\n",
        "df_churn=df[(df['Churn']==True)]"
      ],
      "metadata": {
        "id": "wk-9a2fpoLcV"
      },
      "execution_count": null,
      "outputs": []
    },
    {
      "cell_type": "code",
      "source": [
        "# Churn data groupby Area Code Wise\n",
        "pd.DataFrame(df.groupby('Area code')['Churn'].value_counts().reset_index(name='Count'))"
      ],
      "metadata": {
        "id": "1OkekgqTDfi3"
      },
      "execution_count": null,
      "outputs": []
    },
    {
      "cell_type": "code",
      "source": [
        "# Function to get all area code mean & median while passing area code and dataframe.\n",
        "def get_mean_median(df,areacode):\n",
        "   try:\n",
        "    return pd.concat([df[(df['Churn']==True)&(df['Area code']==areacode)].describe().iloc[1],\n",
        "          df[(df['Churn']==True)&(df['Area code']==areacode)].describe().iloc[5]],\n",
        "          axis=1).rename(columns={\"50%\":'\"median'}).fillna(\"-\")\n",
        "   except:\n",
        "    print(\"Invalid Area Code\")"
      ],
      "metadata": {
        "id": "8at3oC-7EZ_M"
      },
      "execution_count": null,
      "outputs": []
    },
    {
      "cell_type": "code",
      "source": [
        "# getting mean median for area code 408\n",
        "get_mean_median(df=df,areacode=408)"
      ],
      "metadata": {
        "id": "yrNSQ-uzMe2l"
      },
      "execution_count": null,
      "outputs": []
    },
    {
      "cell_type": "code",
      "source": [
        "# getting mean median for area code 415\n",
        "get_mean_median(df=df,areacode=415)\n"
      ],
      "metadata": {
        "id": "Ns9ZKS4NMt57"
      },
      "execution_count": null,
      "outputs": []
    },
    {
      "cell_type": "code",
      "source": [
        "# getting mean median for area code 510\n",
        "get_mean_median(df=df,areacode=510)\n"
      ],
      "metadata": {
        "id": "__DnfoQ9NQ3e"
      },
      "execution_count": null,
      "outputs": []
    },
    {
      "cell_type": "code",
      "source": [
        "# Getting unique States\n",
        "print(df['State'].unique())\n",
        "print(\" \")\n",
        "# Getting unique States\n",
        "print(\"Unique states count is\",df['State'].nunique(),\".\")"
      ],
      "metadata": {
        "id": "68gXNiPENvGX"
      },
      "execution_count": null,
      "outputs": []
    },
    {
      "cell_type": "code",
      "source": [
        "# Churn Counts groupy state wise\n",
        "pd.DataFrame(df.groupby('State')['Churn'].value_counts( ).reset_index(name=\"Count\"))"
      ],
      "metadata": {
        "id": "gY-FtdV8Pshh"
      },
      "execution_count": null,
      "outputs": []
    },
    {
      "cell_type": "code",
      "source": [
        "# Assigning chrun customers data with no international plan\n",
        "df_churn_intl_no=df_churn[df_churn['International plan']=='No']\n",
        "# Assigning chrun customers data with international plan\n",
        "df_churn_intl_yes=df_churn[df_churn['International plan']=='Yes']"
      ],
      "metadata": {
        "id": "4RdwYtXqREI6"
      },
      "execution_count": null,
      "outputs": []
    },
    {
      "cell_type": "code",
      "source": [
        "# Churn customers data with no international plan value counts\n",
        "df_churn_intl_no['Area code'].value_counts()"
      ],
      "metadata": {
        "id": "Lt8FguHbVPWy"
      },
      "execution_count": null,
      "outputs": []
    },
    {
      "cell_type": "code",
      "source": [
        "# Creating call duration column for customers with no international plan\n",
        "df_churn_intl_no['Days_1call_duration']=df_churn_intl_no['Total day minutes']/df_churn_intl_no['Total day calls']\n",
        "df_churn_intl_no['intern_1call_duration']=df_churn_intl_no['Total intl minutes']/df_churn_intl_no['Total intl calls']\n",
        "\n",
        "df_churn_intl_no['evening_1call_duration']=df_churn_intl_no['Total eve minutes']/df_churn_intl_no['Total eve calls']\n",
        "df_churn_intl_no['night_1call_duration']=df_churn_intl_no['Total night minutes']/df_churn_intl_no['Total night calls']\n"
      ],
      "metadata": {
        "id": "sO2n-oEAV3-2"
      },
      "execution_count": null,
      "outputs": []
    },
    {
      "cell_type": "code",
      "source": [
        "# Creating price rate per minute column for customers with international plan\n",
        "df_churn_intl_yes['international_rate_per_min']=df_churn_intl_yes['Total intl charge']/df_churn_intl_yes['Total intl minutes']\n",
        "df_churn_intl_yes['day_rate_per_min']=df_churn_intl_yes['Total day charge']/df_churn_intl_yes['Total day minutes']\n",
        "\n",
        "df_churn_intl_yes['eve_rate_per_min']=df_churn_intl_yes['Total eve charge']/df_churn_intl_yes['Total eve minutes']\n",
        "df_churn_intl_yes['night-rate_per_min']=df_churn_intl_yes['Total night charge']/df_churn_intl_yes['Total night minutes']\n"
      ],
      "metadata": {
        "id": "CjfWMwNNX1kD"
      },
      "execution_count": null,
      "outputs": []
    },
    {
      "cell_type": "code",
      "source": [
        "# Getting Mean Median for area code 408 with no international plan\n",
        "get_mean_median(df_churn_intl_no,areacode=408)"
      ],
      "metadata": {
        "id": "N318nTJFZKJb"
      },
      "execution_count": null,
      "outputs": []
    },
    {
      "cell_type": "code",
      "source": [
        "# Getting Mean Median for area code 415 with no international plan\n",
        "get_mean_median(df_churn_intl_no,areacode=415)"
      ],
      "metadata": {
        "id": "i08kotaMZKF0"
      },
      "execution_count": null,
      "outputs": []
    },
    {
      "cell_type": "code",
      "source": [
        "# Getting Mean Median for area code 510 with no international plan\n",
        "get_mean_median(df_churn_intl_no,areacode=510)"
      ],
      "metadata": {
        "id": "o6M0IgdlZKCh"
      },
      "execution_count": null,
      "outputs": []
    },
    {
      "cell_type": "code",
      "source": [
        "# Getting Mean Median for area code 408 with international plan\n",
        "get_mean_median(df_churn_intl_yes,areacode=408)"
      ],
      "metadata": {
        "id": "d-ofTK2VZ52e"
      },
      "execution_count": null,
      "outputs": []
    },
    {
      "cell_type": "code",
      "source": [
        "# Getting Mean Median for area code 415 with international plan\n",
        "get_mean_median(df_churn_intl_yes,areacode=415)"
      ],
      "metadata": {
        "id": "gYYboQMKZ5zI"
      },
      "execution_count": null,
      "outputs": []
    },
    {
      "cell_type": "code",
      "source": [
        "# Getting Mean Median for area code 510 with international plan\n",
        "get_mean_median(df_churn_intl_yes,areacode=510)"
      ],
      "metadata": {
        "id": "xqevDHuxaVDQ"
      },
      "execution_count": null,
      "outputs": []
    },
    {
      "cell_type": "code",
      "source": [
        "# Checking Number of voice mail sent for customers with no international plan\n",
        "df_churn_intl_no['Number vmail messages'].value_counts().reset_index(name='User Count')"
      ],
      "metadata": {
        "id": "VDoINEUiaU_s"
      },
      "execution_count": null,
      "outputs": []
    },
    {
      "cell_type": "code",
      "source": [
        "# Checking Number of voice mail sent for customers with international plan\n",
        "df_churn_intl_yes['Number vmail messages'].value_counts().reset_index(name='User Count')"
      ],
      "metadata": {
        "id": "Hz8_c6VfcQxf"
      },
      "execution_count": null,
      "outputs": []
    },
    {
      "cell_type": "code",
      "source": [
        "# Assigning Customers data with no international plan and voice mail plan\n",
        "voice_mail_plan_yes= df_churn_intl_yes[df_churn_intl_yes['Voice mail plan']=='yes']\n",
        "voice_mail_plan_yes.describe()"
      ],
      "metadata": {
        "id": "lIYjA8dhcQdL"
      },
      "execution_count": null,
      "outputs": []
    },
    {
      "cell_type": "code",
      "source": [
        "# Assigning customers data with international plan and no voice plan\n",
        "df_true_intl=df_churn[(df_churn['International plan']=='Yes')&(df_churn['Voice mail plan']=='No')]\n",
        "df_true_intl.describe()"
      ],
      "metadata": {
        "id": "Kdp7dXNScQao"
      },
      "execution_count": null,
      "outputs": []
    },
    {
      "cell_type": "code",
      "source": [
        "# Assigning customers data with no international plan and having voice mail plan\n",
        "df_true_voice=df_churn[(df_churn['International plan']=='No')&(df_churn['Voice mail plan']=='Yes')]\n",
        "df_true_voice.describe()"
      ],
      "metadata": {
        "id": "e4RACwLUcQXi"
      },
      "execution_count": null,
      "outputs": []
    },
    {
      "cell_type": "code",
      "source": [
        "# Assigning customers data with no international plan and no voice mail plan\n",
        "df_true_no=df_churn[(df_churn['International plan']=='No')&(df_churn['Voice mail plan']=='No')]\n",
        "df_true_no.describe()"
      ],
      "metadata": {
        "id": "SDug5_JogHTr"
      },
      "execution_count": null,
      "outputs": []
    },
    {
      "cell_type": "code",
      "source": [
        "# Assigning Customers data with both international plan and voice mail plan\n",
        "df_true_yes=df_churn[(df_churn['International plan']=='Yes')&(df_churn['Voice mail plan']=='Yes')]\n",
        "df_true_yes.describe()"
      ],
      "metadata": {
        "id": "IkNRnKpDg4qx"
      },
      "execution_count": null,
      "outputs": []
    },
    {
      "cell_type": "code",
      "source": [
        "print(\"Chruned customer Shape:-\", df_churn.shape)\n",
        "print(\" \")\n",
        "print(\"Customers data with international plan and no voice plan:-\", df_true_intl.shape)\n",
        "print(\" \")\n",
        "print(\"Customers data with no international plan and having voice mail plan:-\", df_true_voice.shape)\n",
        "print(\" \")\n",
        "print(\"Customers data with no international plan and no voice mail plan:-\", df_true_no.shape)\n",
        "print(\" \")\n",
        "print(\"Customers data with both international plan and voice mail plan:-\", df_true_yes.shape)\n",
        "print(\" \")\n",
        "print(\"Customers data with no international plan and having voice mail plan maximum voice message sent:-\", df_true_voice['Number vmail messages'].max())\n",
        "print(\" \")\n"
      ],
      "metadata": {
        "id": "Xs41kpz3iMTO"
      },
      "execution_count": null,
      "outputs": []
    },
    {
      "cell_type": "code",
      "source": [
        "print(\"Customers data with no international plan and having voice mail plan maximum voice message sent:-\",df_true_voice['Number vmail messages'].max())\n",
        "print(\" \")\n",
        "# Assigning customers data to respective area codes\n",
        "df_true_voice_415=df_true_voice[df_true_voice['Area code']==415]\n",
        "df_true_voice_510=df_true_voice[df_true_voice['Area code']==510]\n",
        "df_true_voice_408=df_true_voice[df_true_voice['Area code']==408]\n",
        "\n",
        "print(\"Customers data with no international plan and having voice mail plan voice message sent in area 415 mean, median:-\",df_true_voice_415['Number vmail messages'].mean(),\",\",df_true_voice_415['Number vmail messages'].median())\n",
        "print(\" \")\n",
        "\n",
        "print(\"Customers data with no international plan and having voice mail plan customer service calls in area 415 mean, median:-\",df_true_voice_415['Customer service calls'].mean(),\",\",df_true_voice_415['Customer service calls'].median())\n",
        "print(\" \")\n",
        "\n",
        "print(\"Customers data with no international plan and having voice mail plan voice message sent in area 510 max, mean, median & customer service calls in area 510 mean, median:-\"\n",
        ",df_true_voice_510['Number vmail messages'].max(),\",\",df_true_voice_510['Number vmail messages'].mean(),\",\",df_true_voice_510['Number vmail messages'].median(),\",\",df_true_voice_510['Customer service calls'].mean(),\",\",df_true_voice_510['Customer service calls'].median())\n",
        "print(\" \")\n",
        "\n",
        "print(\"Customers data with no international plan and having voice mail plan voice message sent in area 408 max, mean, median & customer service calls in area 408 mean, median:-\"\n",
        ",df_true_voice_408['Number vmail messages'].max(),\",\",df_true_voice_408['Number vmail messages'].mean(),\",\",df_true_voice_408['Number vmail messages'].median(),\",\",df_true_voice_408['Customer service calls'].mean(),\",\",df_true_voice_408['Customer service calls'].median())\n",
        "print(\" \")\n",
        "# Assigning customers data to respective area codes\n",
        "df_true_yes_415=df_true_yes[df_true_yes['Area code']==415]\n",
        "df_true_yes_510=df_true_yes[df_true_yes['Area code']==510]\n",
        "df_true_yes_408=df_true_yes[df_true_yes['Area code']==408]\n",
        "\n",
        "print(\"Customers data with both international plan and voice mail plan customer service calls mean & voice mail sent max :-\"\n",
        ",df_true_yes['Customer service calls'].mean(),df_true_yes['Number vmail messages'].max())\n",
        "print(\" \")\n",
        "print(\"Customers data with both international plan and voice mail plan in area 415 voice mail sent max, mean, median :-\"\n",
        ",df_true_yes_415['Number vmail messages'].max(),\",\",df_true_yes_415['Number vmail messages'].mean(),\",\",df_true_yes_415['Number vmail messages'].median())\n",
        "print(\" \")\n",
        "print(\"Customers data with both international plan and voice mail plan in area 510 voice mail sent max, mean, median :-\"\n",
        ",df_true_yes_510['Number vmail messages'].max(),\",\",df_true_yes_510['Number vmail messages'].mean(),\",\",df_true_yes_510['Number vmail messages'].median())\n",
        "print(\" \")\n",
        "print(\"Customers data with both international plan and voice mail plan in area 408 voice mail sent max, mean, median :-\"\n",
        ",df_true_yes_408['Number vmail messages'].max(),\",\",df_true_yes_408['Number vmail messages'].mean(),\",\",df_true_yes_408['Number vmail messages'].median())\n"
      ],
      "metadata": {
        "id": "vtP54a-tC0v6"
      },
      "execution_count": null,
      "outputs": []
    },
    {
      "cell_type": "code",
      "source": [
        "# Assigning customers data with no international plan and having voice mail plan state list in area 415\n",
        "df_true_voice_415_states=list(df_true_voice_415['State'].unique())\n",
        "print(\"States list where customers data with no international plan and having voice mail plan in area 415 :-\",df_true_voice_415_states)\n",
        "print(\" \")\n",
        "# Assigning customers data  with both international plan and voice mail plan state list in area 415\n",
        "df_true_yes_415_states=list(df_true_yes_415['State'].unique())\n",
        "print(\"States List where customers data  with both international plan and voice mail plan in area 415 :-\",df_true_yes_415_states)\n",
        "print(\" \")\n",
        "# Getting Poor Network connectivity states based on our hypothetical logic\n",
        "poor_netwok_states_415=set(df_true_voice_415_states).intersection(set(df_true_yes_415_states))\n",
        "print(\"Poor Network connectivity states in area 415 :-\",list(poor_netwok_states_415))"
      ],
      "metadata": {
        "id": "qce9sRkrQKlv"
      },
      "execution_count": null,
      "outputs": []
    },
    {
      "cell_type": "code",
      "source": [
        "# Assigning Customers data with no international plan and having voice mail plan state list in area 408\n",
        "df_true_voice_408_states=list(df_true_voice_408['State'].unique())\n",
        "print(\"States list Customers data with no international plan and having voice mail plan state list in area 408 :-\",df_true_voice_408_states)\n",
        "print(\" \")\n",
        "# Assigning customers data  with both international plan and voice mail plan state list in area 408\n",
        "df_true_yes_408_states=list(df_true_yes_408['State'].unique())\n",
        "print(\"States list customers data  with both international plan and voice mail plan state list in area 408 :-\",df_true_yes_408_states)\n",
        "print(\" \")\n",
        "# Getting Poor Network connectivity states based on our hypothetical logic\n",
        "poor_netwok_states_408=set(df_true_voice_408_states).intersection(set(df_true_yes_408_states))\n",
        "# Getting Common Poor Network connectivity states based on our hypothetical logic from both area 408 & 415\n",
        "poor_network_states=poor_netwok_states_415.union(poor_netwok_states_408)\n",
        "print(\"Poor Network connectivity states in both area 415, 408 :-\",list(poor_network_states))"
      ],
      "metadata": {
        "id": "FMFbt6BWCUw_"
      },
      "execution_count": null,
      "outputs": []
    },
    {
      "cell_type": "code",
      "source": [
        "# Assigning Customers data with no international plan and having voice mail plan state list in area 510\n",
        "df_true_voice_510_states=list(df_true_voice_510['State'].unique())\n",
        "print(\"States list Customers data with no international plan and having voice mail plan state list in area 510 :-\",df_true_voice_510_states)\n",
        "print(\" \")\n",
        "# Assigning customers data  with both international plan and voice mail plan state list in area 510\n",
        "df_true_yes_510_states=list(df_true_yes_510['State'].unique())\n",
        "print(\"States list customers data  with both international plan and voice mail plan state list in area 510 :-\",df_true_yes_510_states)\n",
        "print(\" \")\n",
        "# Getting Common  Network Maintainance states based on our hypothetical logic from area 510\n",
        "maintainence_states=set(df_true_voice_510_states).intersection(set(df_true_yes_510_states))\n",
        "print(\"Network needs to be maintenanced in states :-\",list(maintainence_states))"
      ],
      "metadata": {
        "id": "9RiBl_WJlFkA"
      },
      "execution_count": null,
      "outputs": []
    },
    {
      "cell_type": "code",
      "source": [
        "print(f\"Poor Network States are {list(poor_network_states)}]and Network needs to be maintained in states {list(maintainence_states)}.\")"
      ],
      "metadata": {
        "id": "ySnupz-ElSPw"
      },
      "execution_count": null,
      "outputs": []
    },
    {
      "cell_type": "markdown",
      "source": [],
      "metadata": {
        "id": "zNOO7ZJCgG4-"
      }
    },
    {
      "cell_type": "markdown",
      "source": [
        "### What all manipulations have you done and insights you found?"
      ],
      "metadata": {
        "id": "MSa1f5Uengrz"
      }
    },
    {
      "cell_type": "markdown",
      "source": [
        "In data wrangling the first thing we did is to find out how customers have churn and how many are not and their rate.We know tha plotting charts will give us more visual representation.So from this we got to know there are ~14.5% chrun customer are there."
      ],
      "metadata": {
        "id": "cI3jQOIfJsFQ"
      }
    },
    {
      "cell_type": "markdown",
      "source": [
        "![image.png](data:image/png;base64,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)"
      ],
      "metadata": {
        "id": "1zZB7dm1KRqT"
      }
    },
    {
      "cell_type": "markdown",
      "source": [
        "## ***4. Data Vizualization, Storytelling & Experimenting with charts : Understand the relationships between variables***"
      ],
      "metadata": {
        "id": "GF8Ens_Soomf"
      }
    },
    {
      "cell_type": "markdown",
      "source": [
        "#### Chart - 1- Pie Chart on Dependant Variable i.e, Chrun(Univariate)"
      ],
      "metadata": {
        "id": "0wOQAZs5pc--"
      }
    },
    {
      "cell_type": "code",
      "source": [
        "# Chart - 1 visualization code\n",
        "print(telecom_df.Churn.value_counts())\n",
        "print(\" \")\n",
        "# Dependant Variable column Visualization\n",
        "telecom_df['Churn'].value_counts().plot(kind='pie',figsize=(15,6),autopct='%1.1f%%',\n",
        "startangle=90,shadow=True,labels=['Not Chrun(%)','Chrun(%)'],\n",
        "colors=['green','blue'],\n",
        "explode=[0,0])"
      ],
      "metadata": {
        "id": "7v_ESjsspbW7"
      },
      "execution_count": null,
      "outputs": []
    },
    {
      "cell_type": "markdown",
      "source": [
        "##### 1. Why did you pick the specific chart?"
      ],
      "metadata": {
        "id": "K5QZ13OEpz2H"
      }
    },
    {
      "cell_type": "markdown",
      "source": [
        "I have choose Pie charts because they show parts of a whole in a simple and visual way. They help everyone quickly understand how different categories contribute to the overall picture. This makes it easy to see which parts are more significant.They simplify complex information.aiding better communication and decision-making.\n",
        "\n",
        "\n",
        "\n",
        "\n",
        "\n"
      ],
      "metadata": {
        "id": "XESiWehPqBRc"
      }
    },
    {
      "cell_type": "markdown",
      "source": [
        "##### 2. What is/are the insight(s) found from the chart?\n",
        "\n"
      ],
      "metadata": {
        "id": "lQ7QKXXCp7Bj"
      }
    },
    {
      "cell_type": "markdown",
      "source": [
        "The dataset reveals a noteworthy trend in customer churn. Currently, 85.5% (2,850 customers) remain loyal, while 14.5% (483 customers) have churned. It's crucial to note that this churn rate has grown from an initial 1.45%, indicating a substantial increase. Although 14.5% may seem small, the significant rise underscores the need for immediate action.\n",
        "\n",
        "Timely interventions are essential to address the evolving factors contributing to churn. Proactively identifying and resolving these issues is key to stabilizing or reducing the churn rate and ensuring the overall health of our customer base and business."
      ],
      "metadata": {
        "id": "C_j1G7yiqdRP"
      }
    },
    {
      "cell_type": "markdown",
      "source": [
        "##### 3. Will the gained insights help creating a positive business impact?\n",
        "Are there any insights that lead to negative growth? Justify with specific reason.\n"
      ],
      "metadata": {
        "id": "448CDAPjqfQr"
      }
    },
    {
      "cell_type": "markdown",
      "source": [
        "Looking at the chart, we see that out of all customers, 85.5% (2,850) are still with us, and 14.5% (483) have left. While 14.5% may seem small, it's a big increase from the initial 1.45%. This suggests a growing issue.\n",
        "\n",
        "To tackle this, we need to take action right away. Addressing the reasons for customers leaving is crucial to prevent further increase in the churn rate. It's important to act promptly and keep our customer base strong and healthy."
      ],
      "metadata": {
        "id": "pRwDPXEJoEaR"
      }
    },
    {
      "cell_type": "markdown",
      "source": [
        "#### Chart - 2-State Vs. Average True Chrun Percentage"
      ],
      "metadata": {
        "id": "KSlN3yHqYklG"
      }
    },
    {
      "cell_type": "code",
      "source": [
        "# Chart - 2 visualization code\n",
        "# Showing Average True Chrun Percentage state wise\n",
        "# Showing top 10 chruned state\n",
        "print((telecom_df.groupby(['State'])['Churn'].mean()*100).sort_values(ascending=False).reset_index(name=\"Average True Chrun%\").head(10))\n",
        "print(\" \")\n",
        "\n",
        "# State vs. average true churn percantage visualization code\n",
        "# Vizualizing top 10 churned state\n",
        "plt.rcParams['figure.figsize'] = (15, 7)\n",
        "color = plt.cm.copper(np.linspace(0, 0.5, 20))\n",
        "((telecom_df.groupby(['State'])['Churn'].mean()*100).sort_values(ascending=False).head(10).plot.bar(color = ['indigo','violet','orange','g','b','y','r']))\n",
        "plt.title(\"state with most churn percentage\", fontsize = 20)\n",
        "plt.xlabel('State', fontsize = 15)\n",
        "plt.ylabel('percentage', fontsize = 15)\n",
        "plt.show"
      ],
      "metadata": {
        "id": "R4YgtaqtYklH"
      },
      "execution_count": null,
      "outputs": []
    },
    {
      "cell_type": "code",
      "source": [
        "# Showing Average True Chrun Percentage state wise\n",
        "# Showing top 10 chruned state\n",
        "print((telecom_df.groupby(['State'])['Churn'].mean()*100).sort_values(ascending=True).reset_index(name=\"Average True Chrun%\").head(10))\n",
        "print(\" \")\n",
        "\n",
        "# State vs. average true churn percantage visualization code\n",
        "# Vizualizing top 10 churned state\n",
        "plt.rcParams['figure.figsize'] = (15, 7)\n",
        "color = plt.cm.copper(np.linspace(0, 0.5, 20))\n",
        "((telecom_df.groupby(['State'])['Churn'].mean()*100).sort_values(ascending=True).head(10).plot.bar(color = ['indigo','violet','orange','g','b','y','r']))\n",
        "plt.title(\"state with most churn percentage\", fontsize = 20)\n",
        "plt.xlabel('State', fontsize = 15)\n",
        "plt.ylabel('percentage', fontsize = 15)\n",
        "plt.show"
      ],
      "metadata": {
        "id": "zg0E8hWoxdw7"
      },
      "execution_count": null,
      "outputs": []
    },
    {
      "cell_type": "markdown",
      "source": [
        "##### 1. Why did you pick the specific chart?"
      ],
      "metadata": {
        "id": "t6dVpIINYklI"
      }
    },
    {
      "cell_type": "markdown",
      "source": [
        "Bar charts are like visual tables that help us see how often different things happen. In this case, I used a bar chart to show how many customers in each state have truly left. The chart also gives us an average percentage for each state. It's a simple way to see which states have more customers leaving and understand the overall situation."
      ],
      "metadata": {
        "id": "5aaW0BYyYklI"
      }
    },
    {
      "cell_type": "markdown",
      "source": [
        "##### 2. What is/are the insight(s) found from the chart?"
      ],
      "metadata": {
        "id": "ijmpgYnKYklI"
      }
    },
    {
      "cell_type": "markdown",
      "source": [
        "Out of the 51 states, there are some, like **CA, NJ, TX, MD, SC, MI, MS, NV, WA,** and ME, with higher churn rates exceeding 21.74%. This is more than 50% above the average churn rate. In the data cleaning process, I created a hypothetical logic for states facing issues, like poor network in some and the need for maintenance or new installations in others.\n",
        "\n",
        "Two states,**NV** and **NJ**, appear in both the top 10 churned states and those with specific issues. This highlights common challenges in these states that need attention"
      ],
      "metadata": {
        "id": "PSx9atu2YklI"
      }
    },
    {
      "cell_type": "markdown",
      "source": [
        "##### 3. Will the gained insights help creating a positive business impact?\n",
        "Are there any insights that lead to negative growth? Justify with specific reason."
      ],
      "metadata": {
        "id": "-JiQyfWJYklI"
      }
    },
    {
      "cell_type": "markdown",
      "source": [
        "Yes, Looking at the data, we noticed that a 10% churn rate in a big state is similar to a 20% rate in a smaller one. So, we can't ignore churn rates and need to consider the size of each state. To start solving problems, we should focus on the top 10 states with the highest churn rates first.\n",
        "\n",
        "The issues could be things like bad network, not enough maintenance, low tower density, or the need for new installations. Fixing these problems in the top 10 states might help reduce churn and keep customers happy."
      ],
      "metadata": {
        "id": "BcBbebzrYklV"
      }
    },
    {
      "cell_type": "markdown",
      "source": [
        "#### Chart - 3- Account Length with Chrun Wise(Univariate)"
      ],
      "metadata": {
        "id": "EM7whBJCYoAo"
      }
    },
    {
      "cell_type": "code",
      "source": [
        "# Chart - 3 visualization code\n",
        "# one digit account length\n",
        "print(telecom_df[telecom_df['Account length']<=9].loc[:,['Churn']].value_counts())\n",
        "print(\" \")\n",
        "\n",
        "# Visualizing one digit account length base on churn percentage\n",
        "telecom_df[telecom_df['Account length']<=9].loc[:,['Churn']].value_counts().plot(kind='pie',\n",
        "                                       figsize=(15,6),\n",
        "                                       autopct=\"%1.1f%%\",\n",
        "                                       startangle=90,\n",
        "                                       labels=['No','Yes'],\n",
        "                                       colors=['green','blue'],\n",
        "                                       explode=[0,0]\n",
        "                                       )\n"
      ],
      "metadata": {
        "id": "t6GMdE67YoAp"
      },
      "execution_count": null,
      "outputs": []
    },
    {
      "cell_type": "code",
      "source": [
        "# Three Digit Account length\n",
        "print(telecom_df[(telecom_df['Account length']<=telecom_df['Account length'].max()) & (telecom_df['Account length']>=100)].loc[:,['Churn']].value_counts())\n",
        "print(\" \")\n",
        "\n",
        "# Visualizing three Digit Account length based on chrun percentage\n",
        "telecom_df[(telecom_df['Account length']<=telecom_df['Account length'].max()) & (telecom_df['Account length']>=100)].loc[:,['Churn']].value_counts().plot(kind='pie',\n",
        "                                         figsize=(15,6),\n",
        "                                       autopct=\"%1.1f%%\",\n",
        "                                       startangle=90,\n",
        "                                       labels=['No','Yes'],\n",
        "                                       colors=['green','blue'],\n",
        "                                       explode=[0,0]\n",
        "                                   )"
      ],
      "metadata": {
        "id": "_Xpqo1Dtuiqj"
      },
      "execution_count": null,
      "outputs": []
    },
    {
      "cell_type": "code",
      "source": [
        "# Box Plot for Account Length attribute\n",
        "telecom_df.boxplot(column='Account length',by='Churn')"
      ],
      "metadata": {
        "id": "23Vnl_Q3w7XA"
      },
      "execution_count": null,
      "outputs": []
    },
    {
      "cell_type": "markdown",
      "source": [
        "##### 1. Why did you pick the specific chart?"
      ],
      "metadata": {
        "id": "fge-S5ZAYoAp"
      }
    },
    {
      "cell_type": "markdown",
      "source": [
        "A pie chart is like a colorful circle that helps us see the percentage of different things. I used it to show how much of the total churn comes from each account length. It's a quick way to compare percentages.\n",
        "\n",
        "Box plots are used to show how data is spread out. They're good for comparing groups and telling us about the data's shape, range, and any unusual values. I used a box plot to show the highest and lowest values, as well as any unusual points, for each group. It helps us see the average and middle point easily."
      ],
      "metadata": {
        "id": "5dBItgRVYoAp"
      }
    },
    {
      "cell_type": "markdown",
      "source": [
        "##### 2. What is/are the insight(s) found from the chart?"
      ],
      "metadata": {
        "id": "85gYPyotYoAp"
      }
    },
    {
      "cell_type": "markdown",
      "source": [
        "**Account Length**\n",
        "\n",
        "We can catagories Account Length into three catagories like\n",
        "\n",
        "**One Digit Length**\n",
        "\n",
        "Churn True -8.3%\n",
        "\n",
        "No. of Churn True-2\n",
        "\n",
        "Churn False-91.7%\n",
        "\n",
        "**Two Digit Length**\n",
        "\n",
        "Churn True -14.0%\n",
        "\n",
        "No. of Churn True-225\n",
        "\n",
        "Churn False-86.0%\n",
        "\n",
        "**Three Digit Length**\n",
        "\n",
        "Churn True -15.0%\n",
        "\n",
        "No. of Churn True-256\n",
        "\n",
        "Churn False-85.0%\n",
        "\n",
        "**REMARK**\n",
        "\n",
        "AS from the above record, we can see that Two digit Account Length customers are churning with a number of 225 And Three digit Account Length customers are churning with a number of 256"
      ],
      "metadata": {
        "id": "4jstXR6OYoAp"
      }
    },
    {
      "cell_type": "markdown",
      "source": [
        "##### 3. Will the gained insights help creating a positive business impact?\n",
        "Are there any insights that lead to negative growth? Justify with specific reason."
      ],
      "metadata": {
        "id": "RoGjAbkUYoAp"
      }
    },
    {
      "cell_type": "markdown",
      "source": [
        "Account length shows how many days customers have been using the service. For new customers with a low churn rate of 8.3% (only 2 people), they might be testing the service and leaving if they aren't happy.\n",
        "\n",
        "Customers with an account length between 10 to 99 days have a 15% churn rate. Those below 50 days might be new and those between 55 to 99 might not find the plan beneficial.\n",
        "\n",
        "Older customers with an account length of more than 100 days might be leaving due to a lack of additional offers. So, account length gives a clear idea of why customers might be leaving."
      ],
      "metadata": {
        "id": "zfJ8IqMcYoAp"
      }
    },
    {
      "cell_type": "markdown",
      "source": [
        "#### Chart - 4 - Area Code (Bivariate)"
      ],
      "metadata": {
        "id": "4Of9eVA-YrdM"
      }
    },
    {
      "cell_type": "code",
      "source": [
        "# Chart - 4 visualization code\n",
        "# Area Code wise average churn percentage\n",
        "print(telecom_df.groupby('Area code')['Churn'].mean()*100)\n",
        "print(\" \")\n",
        "\n",
        "# Visualizing code for Area code wise average churn percentage\n",
        "a1 = list(['408','415','510'])\n",
        "b1 = telecom_df.groupby('Area code')['Churn'].mean()*100\n",
        "plt.bar(a1,b1, color=['r','b','g'])\n",
        "plt.rcParams['figure.figsize'] = (6,5)\n",
        "plt.xlabel('Area code',fontsize = 15)\n",
        "plt.ylabel('Churn pecentage', fontsize = 15)\n",
        "plt.show()"
      ],
      "metadata": {
        "id": "irlUoxc8YrdO"
      },
      "execution_count": null,
      "outputs": []
    },
    {
      "cell_type": "markdown",
      "source": [
        "##### 1. Why did you pick the specific chart?"
      ],
      "metadata": {
        "id": "iky9q4vBYrdO"
      }
    },
    {
      "cell_type": "markdown",
      "source": [
        "Bar charts are like visual tables that help us see how often different things happen. In this case, I used a bar chart to show the average percentage of actual churn for different Area Codes. It's a simple way to compare percentages in different areas."
      ],
      "metadata": {
        "id": "aJRCwT6DYrdO"
      }
    },
    {
      "cell_type": "markdown",
      "source": [
        "##### 2. What is/are the insight(s) found from the chart?"
      ],
      "metadata": {
        "id": "F6T5p64dYrdO"
      }
    },
    {
      "cell_type": "markdown",
      "source": [
        "All Area Code have around 14% Churn\n",
        "\n",
        "1.   List item\n",
        "2.   List item\n",
        "\n",
        "rate. So, Area Code doesn't matter."
      ],
      "metadata": {
        "id": "Xx8WAJvtYrdO"
      }
    },
    {
      "cell_type": "markdown",
      "source": [
        "##### 3. Will the gained insights help creating a positive business impact?\n",
        "Are there any insights that lead to negative growth? Justify with specific reason."
      ],
      "metadata": {
        "id": "y-Ehk30pYrdP"
      }
    },
    {
      "cell_type": "markdown",
      "source": [
        "The Area Code doesn't impact the churn rate as it's the same for all codes, standing at 14%. However, breaking down the Area Codes based on states can help identify specific regions with issues. So, while Area Code alone may not have a business impact, analyzing states within each code can provide valuable insights."
      ],
      "metadata": {
        "id": "jLNxxz7MYrdP"
      }
    },
    {
      "cell_type": "markdown",
      "source": [
        "#### Chart - 5 - International Plan (Univariate + Bivariate)"
      ],
      "metadata": {
        "id": "bamQiAODYuh1"
      }
    },
    {
      "cell_type": "code",
      "source": [
        "# Chart - 5 visualization code\n",
        "# Visualizing Percentage of customers taken international plan\n",
        "telecom_df['International plan'].value_counts().plot(kind='pie',\n",
        "                                  figsize=(15,6),\n",
        "                                  autopct=\"%1.1f%%\",\n",
        "                                  startangle=90,\n",
        "                                  labels=['No','Yes'],\n",
        "                                  colors=['green','blue'],\n",
        "                                  explode=[0,0]   )"
      ],
      "metadata": {
        "id": "TIJwrbroYuh3"
      },
      "execution_count": null,
      "outputs": []
    },
    {
      "cell_type": "code",
      "source": [
        "# Assigning values for furthur charts\n",
        "i1 = telecom_df['International plan'].unique()\n",
        "i2 = telecom_df.groupby('International plan')['Churn'].mean()*100\n",
        "i3 = telecom_df.groupby(['International plan'])['Total intl charge'].mean()\n",
        "i4 = telecom_df.groupby(['Churn'])['Total intl minutes'].mean()"
      ],
      "metadata": {
        "id": "1TuK9XBDBEeh"
      },
      "execution_count": null,
      "outputs": []
    },
    {
      "cell_type": "code",
      "source": [
        "# Visualizing code for people churning percentage having international plan\n",
        "plt.rcParams['figure.figsize'] = (6,7)\n",
        "plt.bar(i1,i2, color=['b','r'])\n",
        "plt.title(\"Percentage of people leaving\",fontsize = 18)\n",
        "plt.xlabel('International plan', fontsize = 15)\n",
        "plt.ylabel('Percentage', fontsize = 15)\n",
        "plt.show()"
      ],
      "metadata": {
        "id": "qKj3BbMrBEa6"
      },
      "execution_count": null,
      "outputs": []
    },
    {
      "cell_type": "code",
      "source": [
        "# Visualizing code for average calling charge of customers having international plan\n",
        "plt.rcParams['figure.figsize'] = (6,7)\n",
        "plt.bar(i1,i3, color=['b','r'])\n",
        "plt.title(\"Average charge of people\", fontsize = 18)\n",
        "plt.xlabel(\"International plan\",fontsize = 15)\n",
        "plt.ylabel('charge', fontsize = 15)\n",
        "plt.show()"
      ],
      "metadata": {
        "id": "JfJo6GdED9DB"
      },
      "execution_count": null,
      "outputs": []
    },
    {
      "cell_type": "code",
      "source": [
        "# Visualizing code for average calling charge of customers having international plan\n",
        "plt.rcParams['figure.figsize'] = (6,7)\n",
        "plt.bar(i1,i4, color=['b','r'])\n",
        "plt.title(\"Average charge of people\", fontsize = 18)\n",
        "plt.xlabel(\"International plan\",fontsize = 15)\n",
        "plt.ylabel('charge', fontsize = 15)\n",
        "plt.show()"
      ],
      "metadata": {
        "id": "gBHk5iSJD83-"
      },
      "execution_count": null,
      "outputs": []
    },
    {
      "cell_type": "code",
      "source": [],
      "metadata": {
        "id": "QTx4po9UlGNo"
      },
      "execution_count": null,
      "outputs": []
    },
    {
      "cell_type": "markdown",
      "source": [
        "##### 1. Why did you pick the specific chart?"
      ],
      "metadata": {
        "id": "QHF8YVU7Yuh3"
      }
    },
    {
      "cell_type": "markdown",
      "source": [
        "A pie chart is like a colorful circle that shows the percentage of people with an international plan. Each slice of the pie represents a different group of people.\n",
        "\n",
        "A bar chart is like a set of vertical bars that helps us compare different things. In this case, I used it to show the percentage of churned customers with an international plan and their average calling charge and conversation minutes. It makes it easy to see which groups are higher or lower than others.\n",
        "\n",
        "\n",
        "\n",
        "\n",
        "\n"
      ],
      "metadata": {
        "id": "dcxuIMRPYuh3"
      }
    },
    {
      "cell_type": "markdown",
      "source": [
        "##### 2. What is/are the insight(s) found from the chart?"
      ],
      "metadata": {
        "id": "GwzvFGzlYuh3"
      }
    },
    {
      "cell_type": "markdown",
      "source": [
        "Out of 3333 customers,\n",
        "\n",
        "3010 don't have an international plan, and 323 have one.\n",
        "\n",
        "Among those with an international plan, 42.4% churn, while only 11.4% churn among those without.\n",
        "\n",
        "Customers with an international plan pay an average charge of 2.86 and talk for an average of 10.7 minutes.\n",
        "\n",
        "Customers without an international plan pay an average charge of 2.75 and talk for an average of 10.15 minutes.\n",
        "\n",
        "\n",
        "The reason people with an international plan might leave is that they pay the same amount for international calls as those without, getting no extra benefits.\n",
        "\n",
        "**Therefore, customers with an international plan tend to churn more frequently.**"
      ],
      "metadata": {
        "id": "uyqkiB8YYuh3"
      }
    },
    {
      "cell_type": "markdown",
      "source": [
        "##### 3. Will the gained insights help creating a positive business impact?\n",
        "Are there any insights that lead to negative growth? Justify with specific reason."
      ],
      "metadata": {
        "id": "qYpmQ266Yuh3"
      }
    },
    {
      "cell_type": "markdown",
      "source": [
        "Yes, the insights found will definitely help for a positive business impact. Thsoe people who have international plan they are paying some additional charges to get the plan but the talk time value charge is same as those customers having no international plan. That's might be great reason for more churns those having international plan."
      ],
      "metadata": {
        "id": "_WtzZ_hCYuh4"
      }
    },
    {
      "cell_type": "markdown",
      "source": [
        "#### Chart - 6 - Voice Mail (Univariate + Bivariate)"
      ],
      "metadata": {
        "id": "OH-pJp9IphqM"
      }
    },
    {
      "cell_type": "code",
      "source": [
        "# Chart - 6 visualization code\n",
        "# vizualizing code for customers percentage having voice mail plan\n",
        "telecom_df['Voice mail plan'].value_counts().plot(kind='pie',\n",
        "                              figsize=(15,6),\n",
        "                               autopct=\"%1.1f%%\",\n",
        "                               startangle=90,\n",
        "                               shadow=True,\n",
        "                               labels=['No','Yes'],\n",
        "                               colors=['skyblue','red'],\n",
        "                               explode=[0,0])"
      ],
      "metadata": {
        "id": "kuRf4wtuphqN"
      },
      "execution_count": null,
      "outputs": []
    },
    {
      "cell_type": "code",
      "source": [
        "# Vizualizing code for customers churning while having voice mail plan\n",
        "plt.rcParams['figure.figsize'] = (6,7)\n",
        "\n",
        "cc1 = list(['No','Yes'])\n",
        "cc2 = telecom_df.groupby('Voice mail plan')['Churn'].mean()*100\n",
        "plt.bar(cc1,cc2, color=['b','r'])\n",
        "\n",
        "plt.title('Percentage of people Leaving',fontsize = 18)\n",
        "plt.xlabel('Voice mail plan', fontsize = 15)\n",
        "plt.show()\n"
      ],
      "metadata": {
        "id": "IPv-NMqppkcz"
      },
      "execution_count": null,
      "outputs": []
    },
    {
      "cell_type": "markdown",
      "source": [
        "##### 1. Why did you pick the specific chart?"
      ],
      "metadata": {
        "id": "bbFf2-_FphqN"
      }
    },
    {
      "cell_type": "markdown",
      "source": [
        "A pie chart is like a colorful circle that shows the percentage of people with an international plan. Each slice of the pie represents a different group of people.\n",
        "\n",
        "A bar chart is like a set of vertical bars that helps us compare different things. In this case, I used it to show the percentage of churned customers with an international plan and their average calling charge and conversation minutes. It makes it easy to see which groups are higher or lower than others."
      ],
      "metadata": {
        "id": "loh7H2nzphqN"
      }
    },
    {
      "cell_type": "markdown",
      "source": [
        "##### 2. What is/are the insight(s) found from the chart?"
      ],
      "metadata": {
        "id": "_ouA3fa0phqN"
      }
    },
    {
      "cell_type": "markdown",
      "source": [
        "**Analysis of Voice Mail Usage and Customer Churn Rates:**\n",
        "\n",
        "Voice Mail Subscription:\n",
        "\n",
        "24.11% of customers do not have a voice mail plan, while 9.22% have an active voice mail subscription.\n",
        "Churn Rates:\n",
        "\n",
        "Among those without a voice mail plan, 16.7% of customers tend to churn.\n",
        "Conversely, customers with a voice mail plan exhibit a lower churn rate of 8.7%.\n",
        "Possible Explanations:\n",
        "\n",
        "Customers not opting for a voice mail plan may be influenced by factors such as limited voicemail usage or potential network instability hindering successful message delivery.\n",
        "Hypothesis:\n",
        "\n",
        "A hypothesis emerges that customers who utilize voice mail less frequently may do so based on their specific needs or due to potential network issues at their location, leading to a higher likelihood of churning."
      ],
      "metadata": {
        "id": "VECbqPI7phqN"
      }
    },
    {
      "cell_type": "markdown",
      "source": [
        "##### 3. Will the gained insights help creating a positive business impact?\n",
        "Are there any insights that lead to negative growth? Justify with specific reason."
      ],
      "metadata": {
        "id": "Seke61FWphqN"
      }
    },
    {
      "cell_type": "markdown",
      "source": [
        "* The Voice Mail plan doesn't significantly impact the business unless proven otherwise.\n",
        "\n",
        "* If the hypothesis holds true, focus on states with network issues or towers needing maintenance or new installations.\n",
        "\n",
        "* Consider the Voice Mail plan as a partial factor in the analysis."
      ],
      "metadata": {
        "id": "DW4_bGpfphqN"
      }
    },
    {
      "cell_type": "markdown",
      "source": [
        "#### Chart - 7 - Overall Calls (Bivariate)"
      ],
      "metadata": {
        "id": "PIIx-8_IphqN"
      }
    },
    {
      "cell_type": "code",
      "source": [
        "# Chart - 7 visualization code\n",
        "# Geeting means of churn vs total day calls, total day minutes, total day charge\n",
        "print(telecom_df.groupby(['Churn'])['Total day calls'].mean())\n",
        "print(\" \")\n",
        "print(telecom_df.groupby(['Churn'])['Total day minutes'].mean())\n",
        "print(\" \")\n",
        "print(telecom_df.groupby(['Churn'])['Total day charge'].mean())\n",
        "print(\" \")"
      ],
      "metadata": {
        "id": "lqAIGUfyphqO"
      },
      "execution_count": null,
      "outputs": []
    },
    {
      "cell_type": "code",
      "source": [
        "# Vizualizing Total day minutes vs total day charge\n",
        "cdd = sns.scatterplot(x='Total day minutes', y='Total day charge', hue='Churn',data=telecom_df)\n"
      ],
      "metadata": {
        "id": "XGTn01voo_0z"
      },
      "execution_count": null,
      "outputs": []
    },
    {
      "cell_type": "code",
      "source": [
        "# Import pandas library\n",
        "import pandas as pd\n",
        "\n",
        "# initialize list of list\n",
        "data1 = [['Total day minutes',175.17, 206.91],['Total day charge',29.78, 35.17]]\n",
        "\n",
        "# create the pandas DataFrame\n",
        "minutes_code1 = pd.DataFrame(data1, columns=['day','dont','churn'])\n",
        "\n",
        "# print dataframe\n",
        "minutes_code1"
      ],
      "metadata": {
        "id": "wi9q0xtTqzZa"
      },
      "execution_count": null,
      "outputs": []
    },
    {
      "cell_type": "code",
      "source": [
        "# Vizualizing code for the above created dataframe\n",
        "plt.rcParams['figure.figsize']=(8,6)\n",
        "\n",
        "minutes_code1.plot(kind='bar',x='day',ylabel='mean')"
      ],
      "metadata": {
        "id": "T80imuyfqzBp"
      },
      "execution_count": null,
      "outputs": []
    },
    {
      "cell_type": "code",
      "source": [
        "# Import pandas library\n",
        "import pandas as pd\n",
        "\n",
        "# initialize list of list\n",
        "data2 = [['Total eve minutes',199.04, 212.41],['Total night charge',200.13, 206.23]]\n",
        "\n",
        "# create the pandas DataFrame\n",
        "minutes_code2 = pd.DataFrame(data2, columns=['minutes','dont','churn'])\n",
        "\n",
        "# print dataframe\n",
        "minutes_code2"
      ],
      "metadata": {
        "id": "KW00E2FGqywl"
      },
      "execution_count": null,
      "outputs": []
    },
    {
      "cell_type": "code",
      "source": [
        "# Vizualizing code for the above created dataframe\n",
        "plt.rcParams['figure.figsize']=(8,6)\n",
        "\n",
        "minutes_code2.plot(kind='bar',x='minutes',xlabel='minutes',ylabel ='mean of churn')\n"
      ],
      "metadata": {
        "id": "a2VZllpDuNGl"
      },
      "execution_count": null,
      "outputs": []
    },
    {
      "cell_type": "code",
      "source": [
        "# Import pandas library\n",
        "import pandas as pd\n",
        "\n",
        "# initialize list of list\n",
        "data3 = [['Total day minutes',16.91, 18.05],['Total day charge',9,9.23]]\n",
        "\n",
        "# create the pandas DataFrame\n",
        "minutes_code3 = pd.DataFrame(data3, columns=['charge','dont','churn'])\n",
        "\n",
        "# print dataframe\n",
        "minutes_code3"
      ],
      "metadata": {
        "id": "ZGHWf5NBu3oy"
      },
      "execution_count": null,
      "outputs": []
    },
    {
      "cell_type": "code",
      "source": [
        "# Vizualizing code for the above dataset\n",
        "plt.rcParams['figure.figsize'] = (8,6)\n",
        "\n",
        "minutes_code3.plot(kind='bar', x='charge',ylabel='mean charge')"
      ],
      "metadata": {
        "id": "m0vv-gHkvTXa"
      },
      "execution_count": null,
      "outputs": []
    },
    {
      "cell_type": "markdown",
      "source": [
        "##### 1. Why did you pick the specific chart?"
      ],
      "metadata": {
        "id": "t27r6nlMphqO"
      }
    },
    {
      "cell_type": "markdown",
      "source": [
        " * A scatter plot helps observe relationships between variables by using dots to represent values for two numeric variables. I used it to show the relationship between evening, day, and night calls, minutes, and charges.\n",
        "\n",
        "* Bar graphs are great for comparing items between different groups over time. I utilized a bar plot to represent manipulated data of evening, night, and day, showcasing meaningful insights.\n",
        "\n",
        "\n",
        "\n",
        "\n",
        "\n"
      ],
      "metadata": {
        "id": "iv6ro40sphqO"
      }
    },
    {
      "cell_type": "markdown",
      "source": [
        "##### 2. What is/are the insight(s) found from the chart?"
      ],
      "metadata": {
        "id": "r2jJGEOYphqO"
      }
    },
    {
      "cell_type": "markdown",
      "source": [
        "  **Overall Calls**\n",
        "* Churn customers speak more minutes during the day, evening, and night, resulting in higher charges compared to non-churn customers.\n",
        "\n",
        "* To retain churn customers, introducing a master plan where customers talking more minutes receive discounts or additional free minutes can make them happier and less likely to leave the company."
      ],
      "metadata": {
        "id": "Po6ZPi4hphqO"
      }
    },
    {
      "cell_type": "markdown",
      "source": [
        "##### 3. Will the gained insights help creating a positive business impact?\n",
        "Are there any insights that lead to negative growth? Justify with specific reason."
      ],
      "metadata": {
        "id": "b0JNsNcRphqO"
      }
    },
    {
      "cell_type": "markdown",
      "source": [
        "* For a telecom service provider, optimizing voice call plans is crucial. Offering additional benefits or exciting plans, such as extra talk time or a power plus plan, to customers using only calling services can create a positive business impact.\n",
        "\n",
        "* Customers who primarily use voice call plans during the night could be targeted with special plans during midnight to morning hours.\n",
        "\n",
        "* Providing enticing offers to customers with higher account lengths is essential to retain loyal customers and prevent negative impacts on the business."
      ],
      "metadata": {
        "id": "xvSq8iUTphqO"
      }
    },
    {
      "cell_type": "markdown",
      "source": [
        "#### Chart - 8 - Customer Service Calls (ivariate)"
      ],
      "metadata": {
        "id": "BZR9WyysphqO"
      }
    },
    {
      "cell_type": "code",
      "source": [
        "# Chart - 8 visualization code\n",
        "# Visualizing churn rate per customer service calls\n",
        "plt.rcParams['figure.figsize'] = (12,8)\n",
        "\n",
        "s1 = list(telecom_df['Customer service calls'].unique())\n",
        "s2 = list(telecom_df.groupby(['Customer service calls'])['Churn'].mean()*100)\n",
        "plt.bar(s1,s2, color = ['violet', 'indigo','g','b','y','orange','r'])\n",
        "\n",
        "plt.title('churn rate per service call', fontsize = 20)\n",
        "plt.xlabel('No of cust service call', fontsize = 15)\n",
        "plt.show()"
      ],
      "metadata": {
        "id": "TdPTWpAVphqO"
      },
      "execution_count": null,
      "outputs": []
    },
    {
      "cell_type": "markdown",
      "source": [
        "##### 1. Why did you pick the specific chart?"
      ],
      "metadata": {
        "id": "jj7wYXLtphqO"
      }
    },
    {
      "cell_type": "markdown",
      "source": [
        "* A bar graph helps compare items between different groups over time, especially when changes are significant.\n",
        "\n",
        "* I used a bar plot to illustrate the relationship between the churn rate and the number of customer service calls."
      ],
      "metadata": {
        "id": "Ob8u6rCTphqO"
      }
    },
    {
      "cell_type": "markdown",
      "source": [
        "##### 2. What is/are the insight(s) found from the chart?"
      ],
      "metadata": {
        "id": "eZrbJ2SmphqO"
      }
    },
    {
      "cell_type": "markdown",
      "source": [
        "\n",
        "**CUSTOMER SERVICE CALL**\n",
        "\n",
        "Customer service calls range from 0 to 9.\n",
        "\n",
        "Customers making more service calls are more likely to leave.\n",
        "\n",
        "The graph shows that customers with more than 5 service calls have a probability of leaving exceeding 50%.\n",
        "\n",
        "Immediate resolution and better service should be provided to customers with more than 5 service calls to prevent them from leaving.\n",
        "\n",
        "Customers with four or more service calls are more likely to churn compared to others.\n",
        "\n",
        "\n",
        "\n",
        "\n",
        "\n"
      ],
      "metadata": {
        "id": "mZtgC_hjphqO"
      }
    },
    {
      "cell_type": "markdown",
      "source": [
        "##### 3. Will the gained insights help creating a positive business impact?\n",
        "Are there any insights that lead to negative growth? Justify with specific reason."
      ],
      "metadata": {
        "id": "rFu4xreNphqO"
      }
    },
    {
      "cell_type": "markdown",
      "source": [
        "* Good customer service is crucial for any business.\n",
        "\n",
        "* Optimizing customer call handling and query resolution time is necessary.\n",
        "\n",
        "* For recurring issues from more than 5 customers, root cause analysis and resolution should be applied universally.\n",
        "\n",
        "* The aim is to reduce the number of calls per customer and ensure satisfaction in a single call.\n",
        "\n",
        "* Recognizing and rewarding customer service agents for excellent issue resolution performance is essential."
      ],
      "metadata": {
        "id": "ey_0qi68phqO"
      }
    },
    {
      "cell_type": "markdown",
      "source": [
        "#### Chart - 9 - Column wise Histogram & Box Plot Univariate Analysis\n",
        "\n",
        "\n"
      ],
      "metadata": {
        "id": "YJ55k-q6phqO"
      }
    },
    {
      "cell_type": "code",
      "source": [
        "# Chart - 9 visualization code\n",
        "# Visualizing code of hist plot for each columns to know the data distibution\n",
        "for col in telecom_df.describe().columns:\n",
        "  fig=plt.figure(figsize=(9,6))\n",
        "  ax=fig.gca()\n",
        "  feature = (telecom_df[col])\n",
        "  sns.distplot(telecom_df[col])\n",
        "  ax.axvline(feature.mean(),color='magenta',linestyle='dashed',linewidth=2)\n",
        "  ax.axvline(feature.median(),color='cyan',linestyle='dashed',linewidth=2)\n",
        "  ax.set_title(col)\n",
        "plt.show()\n",
        "\n",
        "# Visualizing code of box plot for each columns to know the data distibution\n",
        "for col in telecom_df.describe().columns:\n",
        "  fig = plt.figure(figsize=(9,6))\n",
        "  ax = fig.gca()\n",
        "  telecom_df.boxplot(col, ax = ax)\n",
        "plt.show()"
      ],
      "metadata": {
        "id": "B2aS4O1ophqO"
      },
      "execution_count": null,
      "outputs": []
    },
    {
      "cell_type": "markdown",
      "source": [
        "##### 1. Why did you pick the specific chart?"
      ],
      "metadata": {
        "id": "gCFgpxoyphqP"
      }
    },
    {
      "cell_type": "markdown",
      "source": [
        "* Histograms are useful for summarizing data distribution, especially in large datasets, and help identify outliers or gaps.\n",
        "\n",
        "* I used histograms to analyze variable distributions across the entire dataset, checking for symmetry.\n",
        "\n",
        "* Box plots are effective for comparing numeric data distributions among different groups, providing a quick overview of symmetry, skewness, variance, and outliers.\n",
        "\n",
        "* I utilized box plots for each numerical variable in the dataset to analyze characteristics like outliers, interquartile range, mean, median, maximum, and minimum values."
      ],
      "metadata": {
        "id": "TVxDimi2phqP"
      }
    },
    {
      "cell_type": "markdown",
      "source": [
        "##### 2. What is/are the insight(s) found from the chart?"
      ],
      "metadata": {
        "id": "OVtJsKN_phqQ"
      }
    },
    {
      "cell_type": "markdown",
      "source": [
        "Most columns show a symmetric distribution, meaning data is balanced around the mean.\n",
        "\n",
        "For numerical columns, the mean is close to the median, indicating a central tendency in the data.\n",
        "\n",
        "The \"Area Code\" column is treated as text since it has only three distinct values."
      ],
      "metadata": {
        "id": "ngGi97qjphqQ"
      }
    },
    {
      "cell_type": "markdown",
      "source": [
        "##### 3. Will the gained insights help creating a positive business impact?\n",
        "Are there any insights that lead to negative growth? Justify with specific reason."
      ],
      "metadata": {
        "id": "lssrdh5qphqQ"
      }
    },
    {
      "cell_type": "markdown",
      "source": [
        "Just a histogram and box plot cannot define business impact. It's done just to see the distribution of the column data over the dataset."
      ],
      "metadata": {
        "id": "tBpY5ekJphqQ"
      }
    },
    {
      "cell_type": "markdown",
      "source": [
        "#### Chart - 10 - Churn vs. Usage"
      ],
      "metadata": {
        "id": "U2RJ9gkRphqQ"
      }
    },
    {
      "cell_type": "code",
      "source": [
        "import matplotlib.pyplot as plt\n",
        "import pandas as pd\n",
        "\n",
        "# Plotting a scatter plot\n",
        "plt.scatter(telecom_df['Total day minutes'], telecom_df['Churn'], color='blue', alpha=0.5)\n",
        "\n",
        "# Adding labels and title\n",
        "plt.xlabel('Total Day Minutes')\n",
        "plt.ylabel('Churn (1: Churned, 0: Not Churned)')\n",
        "plt.title('Scatter Plot: Churn vs. Total Day Minutes')\n",
        "\n",
        "# Display the plot\n",
        "plt.show()\n"
      ],
      "metadata": {
        "id": "GM7a4YP4phqQ"
      },
      "execution_count": null,
      "outputs": []
    },
    {
      "cell_type": "markdown",
      "source": [
        "##### 1. Why did you pick the specific chart?"
      ],
      "metadata": {
        "id": "1M8mcRywphqQ"
      }
    },
    {
      "cell_type": "markdown",
      "source": [
        "A scatter plot was chosen to compare churn against total day minutes due to its ability to visually explore relationships between two continuous variables. This chart facilitates the identification of patterns, outliers, and clusters within the data. Its suitability lies in efficiently representing the binary outcome of churn (churned or not) against the continuous variable of total day minutes, providing a clear and insightful visualization of the potential connection between usage patterns and customer churn in a concise manner.\n",
        "\n",
        "\n",
        "\n",
        "\n",
        "\n"
      ],
      "metadata": {
        "id": "8agQvks0phqQ"
      }
    },
    {
      "cell_type": "markdown",
      "source": [
        "##### 2. What is/are the insight(s) found from the chart?"
      ],
      "metadata": {
        "id": "tgIPom80phqQ"
      }
    },
    {
      "cell_type": "markdown",
      "source": [
        "Insights from the scatter plot comparing churn against total day minutes may include identifying concentration areas where churn is more prevalent, recognizing any discernible trends or patterns in the relationship between usage and churn, and potentially uncovering clusters of customers with distinct behaviors. It allows for a visual assessment of whether higher or lower total day minutes correlate with a higher likelihood of churn, providing valuable insights into the dynamics between usage patterns and customer churn within the dataset. The scatter plot serves as a preliminary tool for discovering potential trends and areas that may warrant further investigation or targeted strategies for customer retention.\n",
        "\n",
        "\n",
        "\n",
        "\n",
        "\n"
      ],
      "metadata": {
        "id": "Qp13pnNzphqQ"
      }
    },
    {
      "cell_type": "markdown",
      "source": [
        "##### 3. Will the gained insights help creating a positive business impact?\n",
        "Are there any insights that lead to negative growth? Justify with specific reason."
      ],
      "metadata": {
        "id": "JMzcOPDDphqR"
      }
    },
    {
      "cell_type": "markdown",
      "source": [
        "The insights from the scatter plot can positively impact business by guiding tailored retention strategies based on usage patterns. Encouraging higher usage for lower-churn customers may be beneficial. However, misinterpreting the data or implementing strategies without a holistic understanding could lead to negative growth. Careful validation and consideration of broader factors are essential to ensure effective decision-making and prevent potential customer dissatisfaction and increased churn."
      ],
      "metadata": {
        "id": "R4Ka1PC2phqR"
      }
    },
    {
      "cell_type": "markdown",
      "source": [
        "#### Chart - 11"
      ],
      "metadata": {
        "id": "x-EpHcCOp1ci"
      }
    },
    {
      "cell_type": "code",
      "source": [],
      "metadata": {
        "id": "mAQTIvtqp1cj"
      },
      "execution_count": null,
      "outputs": []
    },
    {
      "cell_type": "markdown",
      "source": [
        "##### 1. Why did you pick the specific chart?"
      ],
      "metadata": {
        "id": "X_VqEhTip1ck"
      }
    },
    {
      "cell_type": "markdown",
      "source": [
        "Answer Here."
      ],
      "metadata": {
        "id": "-vsMzt_np1ck"
      }
    },
    {
      "cell_type": "markdown",
      "source": [
        "##### 2. What is/are the insight(s) found from the chart?"
      ],
      "metadata": {
        "id": "8zGJKyg5p1ck"
      }
    },
    {
      "cell_type": "markdown",
      "source": [
        "Answer Here"
      ],
      "metadata": {
        "id": "ZYdMsrqVp1ck"
      }
    },
    {
      "cell_type": "markdown",
      "source": [
        "##### 3. Will the gained insights help creating a positive business impact?\n",
        "Are there any insights that lead to negative growth? Justify with specific reason."
      ],
      "metadata": {
        "id": "PVzmfK_Ep1ck"
      }
    },
    {
      "cell_type": "markdown",
      "source": [
        "Answer Here"
      ],
      "metadata": {
        "id": "druuKYZpp1ck"
      }
    },
    {
      "cell_type": "markdown",
      "source": [
        "#### Chart - 12"
      ],
      "metadata": {
        "id": "n3dbpmDWp1ck"
      }
    },
    {
      "cell_type": "code",
      "source": [
        "# Chart - 12 visualization code"
      ],
      "metadata": {
        "id": "bwevp1tKp1ck"
      },
      "execution_count": null,
      "outputs": []
    },
    {
      "cell_type": "markdown",
      "source": [
        "##### 1. Why did you pick the specific chart?"
      ],
      "metadata": {
        "id": "ylSl6qgtp1ck"
      }
    },
    {
      "cell_type": "markdown",
      "source": [
        "Answer Here."
      ],
      "metadata": {
        "id": "m2xqNkiQp1ck"
      }
    },
    {
      "cell_type": "markdown",
      "source": [
        "##### 2. What is/are the insight(s) found from the chart?"
      ],
      "metadata": {
        "id": "ZWILFDl5p1ck"
      }
    },
    {
      "cell_type": "markdown",
      "source": [
        "Answer Here"
      ],
      "metadata": {
        "id": "x-lUsV2mp1ck"
      }
    },
    {
      "cell_type": "markdown",
      "source": [
        "##### 3. Will the gained insights help creating a positive business impact?\n",
        "Are there any insights that lead to negative growth? Justify with specific reason."
      ],
      "metadata": {
        "id": "M7G43BXep1ck"
      }
    },
    {
      "cell_type": "markdown",
      "source": [
        "Answer Here"
      ],
      "metadata": {
        "id": "5wwDJXsLp1cl"
      }
    },
    {
      "cell_type": "markdown",
      "source": [
        "#### Chart - 13"
      ],
      "metadata": {
        "id": "Ag9LCva-p1cl"
      }
    },
    {
      "cell_type": "code",
      "source": [
        "# Chart - 13 visualization code"
      ],
      "metadata": {
        "id": "EUfxeq9-p1cl"
      },
      "execution_count": null,
      "outputs": []
    },
    {
      "cell_type": "markdown",
      "source": [
        "##### 1. Why did you pick the specific chart?"
      ],
      "metadata": {
        "id": "E6MkPsBcp1cl"
      }
    },
    {
      "cell_type": "markdown",
      "source": [
        "Answer Here."
      ],
      "metadata": {
        "id": "V22bRsFWp1cl"
      }
    },
    {
      "cell_type": "markdown",
      "source": [
        "##### 2. What is/are the insight(s) found from the chart?"
      ],
      "metadata": {
        "id": "2cELzS2fp1cl"
      }
    },
    {
      "cell_type": "markdown",
      "source": [
        "Answer Here"
      ],
      "metadata": {
        "id": "ozQPc2_Ip1cl"
      }
    },
    {
      "cell_type": "markdown",
      "source": [
        "##### 3. Will the gained insights help creating a positive business impact?\n",
        "Are there any insights that lead to negative growth? Justify with specific reason."
      ],
      "metadata": {
        "id": "3MPXvC8up1cl"
      }
    },
    {
      "cell_type": "markdown",
      "source": [
        "Answer Here"
      ],
      "metadata": {
        "id": "GL8l1tdLp1cl"
      }
    },
    {
      "cell_type": "markdown",
      "source": [
        "#### Chart - 14 - Correlation Heatmap"
      ],
      "metadata": {
        "id": "NC_X3p0fY2L0"
      }
    },
    {
      "cell_type": "code",
      "source": [
        "# Correlation Heatmap visualization code\n",
        "corr = telecom_df.corr()\n",
        "cmap = cmap=sns.diverging_palette(5, 250, as_cmap=True)\n",
        "\n",
        "def magnify():\n",
        "  return [dict(selector='th',\n",
        "               props=[(\"font-size\", \"7pt\")]),\n",
        "          dict(selector='td',\n",
        "               props=[('padding', '0em 0em')]),\n",
        "          dict(selector='th:hover' ,\n",
        "               props=[(\"font-size\", \"12pt\")]),\n",
        "          dict(selector='tr:hover td:hover',\n",
        "               props=[('max-width', '200px'),\n",
        "                      ('font-size','12pt')])\n",
        "  ]\n",
        "\n",
        "corr.style.background_gradient(cmap, axis=1)\\\n",
        "    .set_properties(**{'max-width':'80px','font-size':'10pt'})\\\n",
        "    .set_caption(\"Hover to magnify\")\\\n",
        "    .set_precision(2)\\\n",
        "    .set_table_styles(magnify())"
      ],
      "metadata": {
        "id": "xyC9zolEZNRQ"
      },
      "execution_count": null,
      "outputs": []
    },
    {
      "cell_type": "markdown",
      "source": [
        "##### 1. Why did you pick the specific chart?"
      ],
      "metadata": {
        "id": "UV0SzAkaZNRQ"
      }
    },
    {
      "cell_type": "markdown",
      "source": [
        "A correlation matrix is like a table that displays how different variables are related. Each cell in the table tells you how much two variables are connected. It's handy for summarizing data, providing input for more advanced analyses, and checking for potential issues in those analyses.\n",
        "\n",
        "The correlation values range from -1 to 1, where -1 indicates a strong negative correlation, 1 indicates a strong positive correlation, and 0 means no correlation. People often use a correlation heatmap to visualize these relationships between variables."
      ],
      "metadata": {
        "id": "DVPuT8LYZNRQ"
      }
    },
    {
      "cell_type": "markdown",
      "source": [
        "##### 2. What is/are the insight(s) found from the chart?"
      ],
      "metadata": {
        "id": "YPEH6qLeZNRQ"
      }
    },
    {
      "cell_type": "markdown",
      "source": [
        "\n",
        "The correlation heatmap reveals strong positive correlations (with a value of 1) between certain pairs of variables, such as total day charge and total day minutes, total evening charge and total evening minutes, and total night charge and total night minutes.\n",
        "\n",
        "Customer service calls show a positive correlation only with the area code and a negative correlation with the other variables.\n",
        "\n",
        "Overall, the heatmap provides a quick way to understand the relationships between different variables in the dataset."
      ],
      "metadata": {
        "id": "bfSqtnDqZNRR"
      }
    },
    {
      "cell_type": "markdown",
      "source": [
        "#### Chart - 15 - Pair Plot"
      ],
      "metadata": {
        "id": "q29F0dvdveiT"
      }
    },
    {
      "cell_type": "code",
      "source": [
        "# Pair Plot visualization code\n",
        "sns.pairplot(telecom_df, hue='Churn')"
      ],
      "metadata": {
        "id": "o58-TEIhveiU"
      },
      "execution_count": null,
      "outputs": []
    },
    {
      "cell_type": "markdown",
      "source": [
        "##### 1. Why did you pick the specific chart?"
      ],
      "metadata": {
        "id": "EXh0U9oCveiU"
      }
    },
    {
      "cell_type": "markdown",
      "source": [
        "A pair plot is a tool for understanding the connections between two variables or forming distinct clusters in data. It's useful for identifying the best features to explain a relationship and can be employed to create simple classification models by drawing lines or making linear separations in the dataset.\n",
        "\n",
        "In my analysis, I used a pair plot to examine data patterns and relationships between different features. It's similar to a correlation map but offers a graphical representation of these connections.\n",
        "\n",
        "\n",
        "\n",
        "\n",
        "\n"
      ],
      "metadata": {
        "id": "eMmPjTByveiU"
      }
    },
    {
      "cell_type": "markdown",
      "source": [
        "##### 2. What is/are the insight(s) found from the chart?"
      ],
      "metadata": {
        "id": "22aHeOlLveiV"
      }
    },
    {
      "cell_type": "markdown",
      "source": [
        "The chart indicates that there is not a strong linear relationship between variables, and the data points are not easily separable by a straight line. For churned customers, the data is clustered and overlaps, while non-churn data is more symmetrical. The pair plot highlights the significance of the area code, and the relationship between the number of churns and various features is insightful. Overall, the graph provides valuable insights into the data, with additional details that can be gathered by examining the visual patterns."
      ],
      "metadata": {
        "id": "uPQ8RGwHveiV"
      }
    },
    {
      "cell_type": "markdown",
      "source": [
        "## **5. Solution to Business Objective**"
      ],
      "metadata": {
        "id": "JcMwzZxoAimU"
      }
    },
    {
      "cell_type": "markdown",
      "source": [
        "#### What do you suggest the client to achieve Business Objective ?\n",
        "Explain Briefly."
      ],
      "metadata": {
        "id": "8G2x9gOozGDZ"
      }
    },
    {
      "cell_type": "markdown",
      "source": [
        "**Ways to Reduce Customer Churn:**\n",
        "\n",
        "* Adjust the International Plan to have a similar cost as the regular one.\n",
        "\n",
        "* Proactively communicate with customers.\n",
        "\n",
        "* Seek frequent feedback from customers.\n",
        "\n",
        "* Periodically provide special offers to retain customers.\n",
        "\n",
        "* Focus on resolving issues for customers in states with high churn rates.\n",
        "\n",
        "* Pay attention to and engage with the most valuable customers.\n",
        "\n",
        "* Implement regular server maintenance for optimal service.\n",
        "\n",
        "* Address and resolve poor network connectivity issues.\n",
        "\n",
        "* Develop a clear roadmap for new customers.\n",
        "\n",
        "* Analyze customer churn occurrences to understand and address the reasons.\n",
        "\n",
        "Stay competitive in the market to retain customer interest and loyalty."
      ],
      "metadata": {
        "id": "pASKb0qOza21"
      }
    },
    {
      "cell_type": "markdown",
      "source": [
        "# **Conclusion**"
      ],
      "metadata": {
        "id": "gCX9965dhzqZ"
      }
    },
    {
      "cell_type": "markdown",
      "source": [
        "* The charges (total day, evening, night, and international) are directly related to the respective minute fields.\n",
        "\n",
        "* The area code and state fields seem unusual and can be excluded from analysis.\n",
        "\n",
        "* Customers with an International Plan are more likely to churn.\n",
        "\n",
        "* Customers making four or more service calls are over four times more likely to churn.\n",
        "\n",
        "* Higher day and evening minutes are associated with a higher churn rate.\n",
        "\n",
        "* No clear connection between churn and variables like day calls, evening calls, night calls, international calls, night minutes, international minutes, account length, or voicemail messages."
      ],
      "metadata": {
        "id": "Fjb1IsQkh3yE"
      }
    },
    {
      "cell_type": "markdown",
      "source": [
        "### ***Hurrah! You have successfully completed your EDA Capstone Project !!!***"
      ],
      "metadata": {
        "id": "gIfDvo9L0UH2"
      }
    }
  ]
}